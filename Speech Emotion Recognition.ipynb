{
 "cells": [
  {
   "cell_type": "markdown",
   "metadata": {},
   "source": [
    "<h1> Machine Learning Project on Speech Emotion Recognition </h1>"
   ]
  },
  {
   "cell_type": "markdown",
   "metadata": {},
   "source": [
    "<h5> Installing Prerequisites and Libraries </h5>"
   ]
  },
  {
   "cell_type": "code",
   "execution_count": 3,
   "metadata": {
    "scrolled": true
   },
   "outputs": [
    {
     "name": "stdout",
     "output_type": "stream",
     "text": [
      "Collecting pipwin\n",
      "  Downloading https://files.pythonhosted.org/packages/08/0f/a7df1770d2dcf99898aee562d6ce866e5dc78a5ccbf4ff25231ece4c99e8/pipwin-0.5.0-py2.py3-none-any.whl\n",
      "Collecting pySmartDL>=1.3.1; python_version >= \"3.4\" (from pipwin)\n",
      "  Downloading https://files.pythonhosted.org/packages/ac/6a/582286ea74c54363cba30413214767904f0a239e12253c3817feaf78453f/pySmartDL-1.3.4-py3-none-any.whl\n",
      "Collecting docopt (from pipwin)\n",
      "  Downloading https://files.pythonhosted.org/packages/a2/55/8f8cab2afd404cf578136ef2cc5dfb50baa1761b68c9da1fb1e4eed343c9/docopt-0.6.2.tar.gz\n",
      "Collecting js2py (from pipwin)\n",
      "  Downloading https://files.pythonhosted.org/packages/f4/6a/0385641ad1b52aae5c63820277a10e500c19e40fc4df5287f161aa287020/Js2Py-0.70-py3-none-any.whl (605kB)\n",
      "Collecting pyprind (from pipwin)\n",
      "  Downloading https://files.pythonhosted.org/packages/1e/30/e76fb0c45da8aef49ea8d2a90d4e7a6877b45894c25f12fb961f009a891e/PyPrind-2.11.2-py3-none-any.whl\n",
      "Requirement already satisfied: requests in c:\\users\\palak\\anaconda3\\lib\\site-packages (from pipwin) (2.22.0)\n",
      "Collecting beautifulsoup4>=4.9.0 (from pipwin)\n",
      "  Downloading https://files.pythonhosted.org/packages/d1/41/e6495bd7d3781cee623ce23ea6ac73282a373088fcd0ddc809a047b18eae/beautifulsoup4-4.9.3-py3-none-any.whl (115kB)\n",
      "Requirement already satisfied: packaging in c:\\users\\palak\\anaconda3\\lib\\site-packages (from pipwin) (19.2)\n",
      "Requirement already satisfied: six in c:\\users\\palak\\anaconda3\\lib\\site-packages (from pipwin) (1.12.0)\n",
      "Collecting pyjsparser>=2.5.1 (from js2py->pipwin)\n",
      "  Downloading https://files.pythonhosted.org/packages/48/ef/c72abcfa2c6accd03e7c89c400790fc3d908c5804d50a7c4e9ceabd74d23/pyjsparser-2.7.1.tar.gz\n",
      "Collecting tzlocal>=1.2 (from js2py->pipwin)\n",
      "  Downloading https://files.pythonhosted.org/packages/5d/94/d47b0fd5988e6b7059de05720a646a2930920fff247a826f61674d436ba4/tzlocal-2.1-py2.py3-none-any.whl\n",
      "Requirement already satisfied: chardet<3.1.0,>=3.0.2 in c:\\users\\palak\\anaconda3\\lib\\site-packages (from requests->pipwin) (3.0.4)\n",
      "Requirement already satisfied: idna<2.9,>=2.5 in c:\\users\\palak\\anaconda3\\lib\\site-packages (from requests->pipwin) (2.8)\n",
      "Requirement already satisfied: urllib3!=1.25.0,!=1.25.1,<1.26,>=1.21.1 in c:\\users\\palak\\anaconda3\\lib\\site-packages (from requests->pipwin) (1.24.2)\n",
      "Requirement already satisfied: certifi>=2017.4.17 in c:\\users\\palak\\anaconda3\\lib\\site-packages (from requests->pipwin) (2019.9.11)\n",
      "Requirement already satisfied: soupsieve>1.2; python_version >= \"3.0\" in c:\\users\\palak\\anaconda3\\lib\\site-packages (from beautifulsoup4>=4.9.0->pipwin) (1.9.3)\n",
      "Requirement already satisfied: pyparsing>=2.0.2 in c:\\users\\palak\\anaconda3\\lib\\site-packages (from packaging->pipwin) (2.4.2)\n",
      "Requirement already satisfied: pytz in c:\\users\\palak\\anaconda3\\lib\\site-packages (from tzlocal>=1.2->js2py->pipwin) (2019.3)\n",
      "Building wheels for collected packages: docopt, pyjsparser\n",
      "  Building wheel for docopt (setup.py): started\n",
      "  Building wheel for docopt (setup.py): finished with status 'done'\n",
      "  Created wheel for docopt: filename=docopt-0.6.2-py2.py3-none-any.whl size=13709 sha256=4a67a5aa38a6ddbd293c38b2c1d52786025886c8ace869f245f09edd45525bd2\n",
      "  Stored in directory: C:\\Users\\palak\\AppData\\Local\\pip\\Cache\\wheels\\9b\\04\\dd\\7daf4150b6d9b12949298737de9431a324d4b797ffd63f526e\n",
      "  Building wheel for pyjsparser (setup.py): started\n",
      "  Building wheel for pyjsparser (setup.py): finished with status 'done'\n",
      "  Created wheel for pyjsparser: filename=pyjsparser-2.7.1-cp37-none-any.whl size=26004 sha256=458a65519619b650b493a24d7b0b56eac4cf5a7c2849a0be5d0b12decf04a766\n",
      "  Stored in directory: C:\\Users\\palak\\AppData\\Local\\pip\\Cache\\wheels\\a2\\73\\e6\\3e433f3fd78257c3f971baf8cc9001cc0c4797268c61751e89\n",
      "Successfully built docopt pyjsparser\n",
      "Installing collected packages: pySmartDL, docopt, pyjsparser, tzlocal, js2py, pyprind, beautifulsoup4, pipwin\n",
      "  Found existing installation: beautifulsoup4 4.8.0\n",
      "    Uninstalling beautifulsoup4-4.8.0:\n",
      "      Successfully uninstalled beautifulsoup4-4.8.0\n",
      "Successfully installed beautifulsoup4-4.9.3 docopt-0.6.2 js2py-0.70 pipwin-0.5.0 pySmartDL-1.3.4 pyjsparser-2.7.1 pyprind-2.11.2 tzlocal-2.1\n",
      "Note: you may need to restart the kernel to use updated packages.\n"
     ]
    }
   ],
   "source": [
    "pip install pipwin"
   ]
  },
  {
   "cell_type": "code",
   "execution_count": 2,
   "metadata": {
    "scrolled": true
   },
   "outputs": [
    {
     "name": "stdout",
     "output_type": "stream",
     "text": [
      "Requirement already satisfied: librosa in c:\\users\\palak\\anaconda3\\lib\\site-packages (0.8.0)\n",
      "Requirement already satisfied: numpy>=1.15.0 in c:\\users\\palak\\anaconda3\\lib\\site-packages (from librosa) (1.16.5)\n",
      "Requirement already satisfied: audioread>=2.0.0 in c:\\users\\palak\\anaconda3\\lib\\site-packages (from librosa) (2.1.9)\n",
      "Requirement already satisfied: scikit-learn!=0.19.0,>=0.14.0 in c:\\users\\palak\\anaconda3\\lib\\site-packages (from librosa) (0.23.2)\n",
      "Requirement already satisfied: soundfile>=0.9.0 in c:\\users\\palak\\anaconda3\\lib\\site-packages (from librosa) (0.10.3.post1)\n",
      "Requirement already satisfied: scipy>=1.0.0 in c:\\users\\palak\\anaconda3\\lib\\site-packages (from librosa) (1.4.1)\n",
      "Requirement already satisfied: decorator>=3.0.0 in c:\\users\\palak\\anaconda3\\lib\\site-packages (from librosa) (4.4.0)\n",
      "Requirement already satisfied: joblib>=0.14 in c:\\users\\palak\\anaconda3\\lib\\site-packages (from librosa) (0.17.0)\n",
      "Requirement already satisfied: resampy>=0.2.2 in c:\\users\\palak\\anaconda3\\lib\\site-packages (from librosa) (0.2.2)\n",
      "Requirement already satisfied: numba>=0.43.0 in c:\\users\\palak\\anaconda3\\lib\\site-packages (from librosa) (0.45.1)\n",
      "Requirement already satisfied: pooch>=1.0 in c:\\users\\palak\\anaconda3\\lib\\site-packages (from librosa) (1.2.0)\n",
      "Requirement already satisfied: threadpoolctl>=2.0.0 in c:\\users\\palak\\anaconda3\\lib\\site-packages (from scikit-learn!=0.19.0,>=0.14.0->librosa) (2.1.0)\n",
      "Requirement already satisfied: cffi>=1.0 in c:\\users\\palak\\anaconda3\\lib\\site-packages (from soundfile>=0.9.0->librosa) (1.12.3)\n",
      "Requirement already satisfied: six>=1.3 in c:\\users\\palak\\anaconda3\\lib\\site-packages (from resampy>=0.2.2->librosa) (1.12.0)\n",
      "Requirement already satisfied: llvmlite>=0.29.0dev0 in c:\\users\\palak\\anaconda3\\lib\\site-packages (from numba>=0.43.0->librosa) (0.29.0)\n",
      "Requirement already satisfied: appdirs in c:\\users\\palak\\anaconda3\\lib\\site-packages (from pooch>=1.0->librosa) (1.4.3)\n",
      "Requirement already satisfied: packaging in c:\\users\\palak\\anaconda3\\lib\\site-packages (from pooch>=1.0->librosa) (19.2)\n",
      "Requirement already satisfied: requests in c:\\users\\palak\\anaconda3\\lib\\site-packages (from pooch>=1.0->librosa) (2.22.0)\n",
      "Requirement already satisfied: pycparser in c:\\users\\palak\\anaconda3\\lib\\site-packages (from cffi>=1.0->soundfile>=0.9.0->librosa) (2.19)\n",
      "Requirement already satisfied: pyparsing>=2.0.2 in c:\\users\\palak\\anaconda3\\lib\\site-packages (from packaging->pooch>=1.0->librosa) (2.4.2)\n",
      "Requirement already satisfied: certifi>=2017.4.17 in c:\\users\\palak\\anaconda3\\lib\\site-packages (from requests->pooch>=1.0->librosa) (2019.9.11)\n",
      "Requirement already satisfied: urllib3!=1.25.0,!=1.25.1,<1.26,>=1.21.1 in c:\\users\\palak\\anaconda3\\lib\\site-packages (from requests->pooch>=1.0->librosa) (1.24.2)\n",
      "Requirement already satisfied: idna<2.9,>=2.5 in c:\\users\\palak\\anaconda3\\lib\\site-packages (from requests->pooch>=1.0->librosa) (2.8)\n",
      "Requirement already satisfied: chardet<3.1.0,>=3.0.2 in c:\\users\\palak\\anaconda3\\lib\\site-packages (from requests->pooch>=1.0->librosa) (3.0.4)\n",
      "Note: you may need to restart the kernel to use updated packages.\n"
     ]
    }
   ],
   "source": [
    "pip install librosa"
   ]
  },
  {
   "cell_type": "code",
   "execution_count": 3,
   "metadata": {
    "scrolled": true
   },
   "outputs": [
    {
     "name": "stdout",
     "output_type": "stream",
     "text": [
      "Requirement already satisfied: soundfile in c:\\users\\palak\\anaconda3\\lib\\site-packages (0.10.3.post1)\n",
      "Requirement already satisfied: cffi>=1.0 in c:\\users\\palak\\anaconda3\\lib\\site-packages (from soundfile) (1.12.3)\n",
      "Requirement already satisfied: pycparser in c:\\users\\palak\\anaconda3\\lib\\site-packages (from cffi>=1.0->soundfile) (2.19)\n",
      "Note: you may need to restart the kernel to use updated packages.\n"
     ]
    }
   ],
   "source": [
    "pip install soundfile"
   ]
  },
  {
   "cell_type": "code",
   "execution_count": 4,
   "metadata": {},
   "outputs": [
    {
     "name": "stdout",
     "output_type": "stream",
     "text": [
      "Requirement already satisfied: numpy in c:\\users\\palak\\anaconda3\\lib\\site-packages (1.16.5)\n",
      "Note: you may need to restart the kernel to use updated packages.\n"
     ]
    }
   ],
   "source": [
    "pip install numpy"
   ]
  },
  {
   "cell_type": "code",
   "execution_count": 5,
   "metadata": {
    "scrolled": true
   },
   "outputs": [
    {
     "name": "stdout",
     "output_type": "stream",
     "text": [
      "Requirement already satisfied: sklearn in c:\\users\\palak\\anaconda3\\lib\\site-packages (0.0)\n",
      "Requirement already satisfied: scikit-learn in c:\\users\\palak\\anaconda3\\lib\\site-packages (from sklearn) (0.23.2)\n",
      "Requirement already satisfied: joblib>=0.11 in c:\\users\\palak\\anaconda3\\lib\\site-packages (from scikit-learn->sklearn) (0.17.0)\n",
      "Requirement already satisfied: scipy>=0.19.1 in c:\\users\\palak\\anaconda3\\lib\\site-packages (from scikit-learn->sklearn) (1.4.1)\n",
      "Requirement already satisfied: numpy>=1.13.3 in c:\\users\\palak\\anaconda3\\lib\\site-packages (from scikit-learn->sklearn) (1.16.5)\n",
      "Requirement already satisfied: threadpoolctl>=2.0.0 in c:\\users\\palak\\anaconda3\\lib\\site-packages (from scikit-learn->sklearn) (2.1.0)\n",
      "Note: you may need to restart the kernel to use updated packages.\n"
     ]
    }
   ],
   "source": [
    "pip install sklearn"
   ]
  },
  {
   "cell_type": "markdown",
   "metadata": {},
   "source": [
    "<h5> Importing Libraries </h5>"
   ]
  },
  {
   "cell_type": "code",
   "execution_count": 1,
   "metadata": {},
   "outputs": [],
   "source": [
    "import librosa\n",
    "import soundfile\n",
    "import os, glob, pickle\n",
    "import numpy as np\n",
    "from sklearn.model_selection import train_test_split\n",
    "from sklearn.neural_network import MLPClassifier\n",
    "from sklearn.metrics import accuracy_score\n",
    "import matplotlib.pyplot as plt \n",
    "from sklearn import metrics"
   ]
  },
  {
   "cell_type": "markdown",
   "metadata": {},
   "source": [
    "<h5> Creating Python Function to Extract Features </h5>"
   ]
  },
  {
   "cell_type": "markdown",
   "metadata": {},
   "source": [
    "<h6> Extracting 3 features (mfcc,chroma,mel) from the sound file and storing them in result array. </h6>"
   ]
  },
  {
   "cell_type": "code",
   "execution_count": 2,
   "metadata": {},
   "outputs": [],
   "source": [
    "#Extract features (mfcc, chroma, mel) from a sound file\n",
    "def extract_feature(file_name, mfcc, chroma, mel):\n",
    "    with soundfile.SoundFile(file_name) as sound_file:\n",
    "        X = sound_file.read(dtype=\"float32\")\n",
    "        sample_rate=sound_file.samplerate\n",
    "        if chroma:\n",
    "            stft=np.abs(librosa.stft(X))\n",
    "        result=np.array([])\n",
    "        if mfcc:\n",
    "            mfccs=np.mean(librosa.feature.mfcc(y=X, sr=sample_rate, n_mfcc=40).T, axis=0)\n",
    "            result=np.hstack((result, mfccs))\n",
    "        if chroma:\n",
    "            chroma=np.mean(librosa.feature.chroma_stft(S=stft, sr=sample_rate).T,axis=0)\n",
    "            result=np.hstack((result, chroma))\n",
    "        if mel:\n",
    "            mel=np.mean(librosa.feature.melspectrogram(X, sr=sample_rate).T,axis=0)\n",
    "            result=np.hstack((result, mel))\n",
    "    return result"
   ]
  },
  {
   "cell_type": "markdown",
   "metadata": {},
   "source": [
    "<h5> Creating emotions as the target variable </h5>"
   ]
  },
  {
   "cell_type": "code",
   "execution_count": 3,
   "metadata": {},
   "outputs": [],
   "source": [
    "#Emotions in the RAVDESS dataset\n",
    "emotions={\n",
    "  '01':'neutral',\n",
    "  '02':'calm',\n",
    "  '03':'happy',\n",
    "  '04':'sad',\n",
    "  '05':'angry',\n",
    "  '06':'fearful',\n",
    "  '07':'disgust',\n",
    "  '08':'surprised'\n",
    "}\n",
    "\n",
    "#Emotions to observe\n",
    "observed_emotions=['calm', 'happy', 'fearful', 'disgust']"
   ]
  },
  {
   "cell_type": "markdown",
   "metadata": {},
   "source": [
    "<h5> Loading the audio files and extracting features from each one </h5>"
   ]
  },
  {
   "cell_type": "code",
   "execution_count": 4,
   "metadata": {},
   "outputs": [],
   "source": [
    "#Load the data and extract features for each sound file\n",
    "def load_data(test_size=0.2):\n",
    "    x,y=[],[]\n",
    "    for file in glob.glob(\"C:\\\\Users\\\\palak\\\\Downloads\\\\speech-emotion-recognition-ravdess-data\\\\Actor_*\\\\*.wav\"):\n",
    "        file_name=os.path.basename(file)\n",
    "        emotion=emotions[file_name.split(\"-\")[2]]\n",
    "        if emotion not in observed_emotions:\n",
    "            continue\n",
    "        feature=extract_feature(file, mfcc=True, chroma=True, mel=True)\n",
    "        x.append(feature)\n",
    "        y.append(emotion)\n",
    "    return train_test_split(np.array(x), y, test_size=test_size, random_state=9)"
   ]
  },
  {
   "cell_type": "markdown",
   "metadata": {},
   "source": [
    "<h5> Model 1: Multi Layer Perceptron </h5>"
   ]
  },
  {
   "cell_type": "code",
   "execution_count": 5,
   "metadata": {},
   "outputs": [],
   "source": [
    "#Split the dataset\n",
    "x_train,x_test,y_train,y_test=load_data(test_size=0.20)"
   ]
  },
  {
   "cell_type": "code",
   "execution_count": 6,
   "metadata": {
    "scrolled": true
   },
   "outputs": [
    {
     "name": "stdout",
     "output_type": "stream",
     "text": [
      "(614, 154)\n"
     ]
    }
   ],
   "source": [
    "#Get the shape of the training and testing datasets\n",
    "print((x_train.shape[0], x_test.shape[0]))"
   ]
  },
  {
   "cell_type": "code",
   "execution_count": 7,
   "metadata": {},
   "outputs": [
    {
     "name": "stdout",
     "output_type": "stream",
     "text": [
      "Features extracted: 180\n"
     ]
    }
   ],
   "source": [
    "#Get the number of features extracted\n",
    "print(f'Features extracted: {x_train.shape[1]}')"
   ]
  },
  {
   "cell_type": "code",
   "execution_count": 8,
   "metadata": {},
   "outputs": [],
   "source": [
    "#Initialize the Multi Layer Perceptron Classifier\n",
    "model=MLPClassifier(alpha=0.01, batch_size=256, epsilon=1e-08, hidden_layer_sizes=(300,), learning_rate='adaptive', max_iter=500)"
   ]
  },
  {
   "cell_type": "code",
   "execution_count": 9,
   "metadata": {
    "scrolled": true
   },
   "outputs": [
    {
     "data": {
      "text/plain": [
       "MLPClassifier(alpha=0.01, batch_size=256, hidden_layer_sizes=(300,),\n",
       "              learning_rate='adaptive', max_iter=500)"
      ]
     },
     "execution_count": 9,
     "metadata": {},
     "output_type": "execute_result"
    }
   ],
   "source": [
    "#Train the model\n",
    "model.fit(x_train,y_train)"
   ]
  },
  {
   "cell_type": "code",
   "execution_count": 10,
   "metadata": {},
   "outputs": [],
   "source": [
    "y_train_pred = model.predict(x_train)"
   ]
  },
  {
   "cell_type": "code",
   "execution_count": 11,
   "metadata": {},
   "outputs": [
    {
     "name": "stdout",
     "output_type": "stream",
     "text": [
      "Accuracy: 98.21%\n"
     ]
    }
   ],
   "source": [
    "#Calculate the accuracy of our model\n",
    "accuracy=accuracy_score(y_true=y_train, y_pred=y_train_pred)\n",
    "#Print the accuracy\n",
    "print(\"Accuracy: {:.2f}%\".format(accuracy*100))"
   ]
  },
  {
   "cell_type": "code",
   "execution_count": 8,
   "metadata": {},
   "outputs": [],
   "source": [
    "#Predict for the test set\n",
    "y_pred=model.predict(x_test)"
   ]
  },
  {
   "cell_type": "code",
   "execution_count": 18,
   "metadata": {},
   "outputs": [
    {
     "name": "stdout",
     "output_type": "stream",
     "text": [
      "Accuracy: 77.27%\n"
     ]
    }
   ],
   "source": [
    "#Calculate the accuracy of our model\n",
    "accuracy=accuracy_score(y_true=y_test, y_pred=y_pred)\n",
    "#Print the accuracy\n",
    "print(\"Accuracy: {:.2f}%\".format(accuracy*100))"
   ]
  },
  {
   "cell_type": "markdown",
   "metadata": {},
   "source": [
    "<h5> Model 2: Naive Bayes </h5>"
   ]
  },
  {
   "cell_type": "code",
   "execution_count": 12,
   "metadata": {},
   "outputs": [],
   "source": [
    "from sklearn.naive_bayes import GaussianNB"
   ]
  },
  {
   "cell_type": "code",
   "execution_count": 13,
   "metadata": {},
   "outputs": [],
   "source": [
    "x_train5,x_test5,y_train5,y_test5 =load_data(test_size=0.30)"
   ]
  },
  {
   "cell_type": "code",
   "execution_count": 14,
   "metadata": {},
   "outputs": [
    {
     "data": {
      "text/plain": [
       "GaussianNB()"
      ]
     },
     "execution_count": 14,
     "metadata": {},
     "output_type": "execute_result"
    }
   ],
   "source": [
    "clf = GaussianNB() \n",
    "clf.fit(x_train5, y_train5)"
   ]
  },
  {
   "cell_type": "code",
   "execution_count": 15,
   "metadata": {},
   "outputs": [],
   "source": [
    "y_train_predict = clf.predict(x_train5)"
   ]
  },
  {
   "cell_type": "code",
   "execution_count": 17,
   "metadata": {},
   "outputs": [
    {
     "name": "stdout",
     "output_type": "stream",
     "text": [
      "Accuracy: 47.67%\n"
     ]
    }
   ],
   "source": [
    "#Calculate the accuracy of our model\n",
    "accuracy=accuracy_score(y_true=y_train5, y_pred=y_train_predict)\n",
    "#Print the accuracy\n",
    "print(\"Accuracy: {:.2f}%\".format(accuracy*100))"
   ]
  },
  {
   "cell_type": "code",
   "execution_count": 16,
   "metadata": {},
   "outputs": [
    {
     "name": "stdout",
     "output_type": "stream",
     "text": [
      "['calm' 'calm' 'disgust' 'disgust' 'disgust' 'calm' 'calm' 'fearful'\n",
      " 'calm' 'disgust' 'fearful' 'calm' 'fearful' 'disgust' 'calm' 'fearful'\n",
      " 'calm' 'calm' 'disgust' 'calm' 'calm' 'disgust' 'calm' 'calm' 'calm'\n",
      " 'calm' 'calm' 'happy' 'calm' 'calm' 'disgust' 'disgust' 'happy' 'calm'\n",
      " 'disgust' 'calm' 'calm' 'happy' 'calm' 'calm' 'disgust' 'calm' 'calm'\n",
      " 'calm' 'disgust' 'calm' 'calm' 'calm' 'calm' 'happy' 'fearful' 'fearful'\n",
      " 'calm' 'happy' 'disgust' 'disgust' 'calm' 'disgust' 'calm' 'calm' 'calm'\n",
      " 'calm' 'calm' 'calm' 'calm' 'calm' 'calm' 'disgust' 'calm' 'disgust'\n",
      " 'calm' 'happy' 'fearful' 'fearful' 'fearful' 'calm' 'disgust' 'calm'\n",
      " 'calm' 'fearful' 'calm' 'calm' 'disgust' 'calm' 'disgust' 'calm' 'calm'\n",
      " 'disgust' 'disgust' 'calm' 'disgust' 'calm' 'calm' 'happy' 'calm'\n",
      " 'fearful' 'calm' 'calm' 'calm' 'calm' 'fearful' 'calm' 'calm' 'calm'\n",
      " 'calm' 'calm' 'calm' 'calm' 'calm' 'happy' 'calm' 'calm' 'disgust' 'calm'\n",
      " 'happy' 'calm' 'calm' 'happy' 'disgust' 'disgust' 'calm' 'calm' 'calm'\n",
      " 'disgust' 'happy' 'calm' 'disgust' 'disgust' 'calm' 'calm' 'fearful'\n",
      " 'calm' 'happy' 'disgust' 'calm' 'fearful' 'calm' 'calm' 'disgust' 'happy'\n",
      " 'calm' 'calm' 'disgust' 'happy' 'disgust' 'fearful' 'disgust' 'happy'\n",
      " 'calm' 'calm' 'calm' 'disgust' 'happy' 'calm' 'disgust' 'calm' 'calm'\n",
      " 'disgust' 'calm' 'calm' 'disgust' 'disgust' 'calm' 'calm' 'calm'\n",
      " 'disgust' 'happy' 'fearful' 'calm' 'calm' 'happy' 'disgust' 'disgust'\n",
      " 'calm' 'disgust' 'disgust' 'calm' 'fearful' 'calm' 'calm' 'disgust'\n",
      " 'happy' 'calm' 'calm' 'calm' 'fearful' 'disgust' 'fearful' 'disgust'\n",
      " 'fearful' 'calm' 'calm' 'disgust' 'calm' 'calm' 'calm' 'calm' 'happy'\n",
      " 'calm' 'calm' 'calm' 'happy' 'calm' 'disgust' 'fearful' 'disgust'\n",
      " 'disgust' 'disgust' 'fearful' 'calm' 'calm' 'calm' 'disgust' 'calm'\n",
      " 'calm' 'disgust' 'calm' 'disgust' 'disgust' 'calm' 'calm' 'calm'\n",
      " 'disgust' 'calm' 'calm' 'disgust' 'fearful' 'calm' 'disgust' 'disgust'\n",
      " 'calm']\n"
     ]
    }
   ],
   "source": [
    "y_predict = clf.predict(x_test5)\n",
    "print(y_predict)"
   ]
  },
  {
   "cell_type": "code",
   "execution_count": 48,
   "metadata": {},
   "outputs": [
    {
     "name": "stdout",
     "output_type": "stream",
     "text": [
      "Accuracy: 50.65%\n"
     ]
    }
   ],
   "source": [
    "#Calculate the accuracy of our model\n",
    "accuracy=accuracy_score(y_true=y_test5, y_pred=y_predict)\n",
    "#Print the accuracy\n",
    "print(\"Accuracy: {:.2f}%\".format(accuracy*100))"
   ]
  },
  {
   "cell_type": "markdown",
   "metadata": {},
   "source": [
    "<h5> Model 3: Support Vector Machine </h5>"
   ]
  },
  {
   "cell_type": "code",
   "execution_count": null,
   "metadata": {},
   "outputs": [],
   "source": [
    "from sklearn import svm"
   ]
  },
  {
   "cell_type": "code",
   "execution_count": 19,
   "metadata": {},
   "outputs": [],
   "source": [
    "x_train1,x_test1,y_train1,y_test1=load_data(test_size=0.20)"
   ]
  },
  {
   "cell_type": "code",
   "execution_count": 20,
   "metadata": {},
   "outputs": [
    {
     "data": {
      "text/plain": [
       "SVC(kernel='linear')"
      ]
     },
     "execution_count": 20,
     "metadata": {},
     "output_type": "execute_result"
    }
   ],
   "source": [
    "svc=svm.SVC(probability=False, kernel=\"linear\")\n",
    "svc.fit(x_train1,y_train1)"
   ]
  },
  {
   "cell_type": "code",
   "execution_count": 21,
   "metadata": {},
   "outputs": [
    {
     "name": "stdout",
     "output_type": "stream",
     "text": [
      "Accuracy: 0.8811074918566775\n"
     ]
    }
   ],
   "source": [
    "print(\"Accuracy:\", metrics.accuracy_score(svc.predict(x_train1), y_train1))"
   ]
  },
  {
   "cell_type": "code",
   "execution_count": 26,
   "metadata": {
    "scrolled": true
   },
   "outputs": [
    {
     "name": "stdout",
     "output_type": "stream",
     "text": [
      "Accuracy: 0.6493506493506493\n",
      "Weights :  [[-1.91796575e-02 -4.55569145e-04  4.06501623e-03 ... -9.98238576e-04\n",
      "  -5.55466240e-04 -3.16405399e-04]\n",
      " [-2.42783785e-02  4.44300626e-01  2.40838525e-02 ... -9.76933099e-04\n",
      "  -6.15721510e-04 -2.95832109e-04]\n",
      " [-2.72719410e-02  5.77914980e-02  7.95764935e-02 ...  3.13502768e-05\n",
      "   1.65631377e-04  1.18986278e-05]\n",
      " [ 2.19629927e-02  1.73667330e-01 -1.21148476e-02 ...  6.81601997e-03\n",
      "   5.56782207e-03  2.05932524e-03]\n",
      " [ 2.38566561e-02  8.94981972e-02  1.60132420e-01 ...  5.01689655e-03\n",
      "   5.15010434e-03  1.82469260e-03]\n",
      " [-9.38041282e-03 -1.34856615e-01  1.84477632e-01 ...  1.88132047e-03\n",
      "   2.72117694e-03  2.17024137e-03]]\n"
     ]
    },
    {
     "name": "stderr",
     "output_type": "stream",
     "text": [
      "C:\\Users\\palak\\Anaconda3\\lib\\site-packages\\ipykernel_launcher.py:6: UserWarning: In Matplotlib 3.3 individual lines on a stem plot will be added as a LineCollection instead of individual lines. This significantly improves the performance of a stem plot. To remove this warning and switch to the new behaviour, set the \"use_line_collection\" keyword argument to True.\n",
      "  \n"
     ]
    },
    {
     "data": {
      "image/png": "[encoded data removed]",
      "text/plain": [
       "<Figure size 432x288 with 1 Axes>"
      ]
     },
     "metadata": {
      "needs_background": "light"
     },
     "output_type": "display_data"
    }
   ],
   "source": [
    "print(\"Accuracy:\", metrics.accuracy_score(svc.predict(x_test1), y_test1))\n",
    "weights=abs(svc.coef_.flatten())\n",
    "print(\"Weights : \",svc.coef_)\n",
    "plt.stem(weights)\n",
    "plt.title(\"Stem Plot for weights\")\n",
    "plt.show()"
   ]
  },
  {
   "cell_type": "markdown",
   "metadata": {},
   "source": [
    "<h5> Model 4: Logistic Regression </h5>"
   ]
  },
  {
   "cell_type": "code",
   "execution_count": 22,
   "metadata": {},
   "outputs": [],
   "source": [
    "from sklearn.linear_model import LogisticRegression"
   ]
  },
  {
   "cell_type": "code",
   "execution_count": 23,
   "metadata": {},
   "outputs": [],
   "source": [
    "x_train3,x_test3,y_train3,y_test3=load_data(test_size=0.30)"
   ]
  },
  {
   "cell_type": "code",
   "execution_count": 24,
   "metadata": {
    "scrolled": true
   },
   "outputs": [
    {
     "data": {
      "text/plain": [
       "LogisticRegression(C=0.4, penalty='l1', solver='liblinear')"
      ]
     },
     "execution_count": 24,
     "metadata": {},
     "output_type": "execute_result"
    }
   ],
   "source": [
    "model = LogisticRegression(C = 0.4,penalty='l1', solver='liblinear')\n",
    "model.fit(x_train3, y_train3)"
   ]
  },
  {
   "cell_type": "code",
   "execution_count": 25,
   "metadata": {},
   "outputs": [],
   "source": [
    "y_train_hat = model.predict(x_train3)"
   ]
  },
  {
   "cell_type": "code",
   "execution_count": 26,
   "metadata": {},
   "outputs": [
    {
     "name": "stdout",
     "output_type": "stream",
     "text": [
      "Accuracy: 0.7635009310986964\n"
     ]
    }
   ],
   "source": [
    "print(\"Accuracy:\", metrics.accuracy_score(y_train3, y_train_hat))"
   ]
  },
  {
   "cell_type": "code",
   "execution_count": 28,
   "metadata": {},
   "outputs": [],
   "source": [
    "import pandas as pd \n",
    "from sklearn import metrics"
   ]
  },
  {
   "cell_type": "code",
   "execution_count": 12,
   "metadata": {},
   "outputs": [],
   "source": [
    "y_pred = pd.Series(model.predict(x_test3))"
   ]
  },
  {
   "cell_type": "code",
   "execution_count": 55,
   "metadata": {
    "scrolled": false
   },
   "outputs": [
    {
     "name": "stdout",
     "output_type": "stream",
     "text": [
      "Accuracy: 0.6536796536796536\n"
     ]
    }
   ],
   "source": [
    "print(\"Accuracy:\", metrics.accuracy_score(y_test3, y_pred))"
   ]
  },
  {
   "cell_type": "code",
   "execution_count": 15,
   "metadata": {},
   "outputs": [
    {
     "name": "stdout",
     "output_type": "stream",
     "text": [
      "Weights :  [[-3.13460442e-03  2.08264086e-02  6.24715444e-02  2.67244947e-02\n",
      "   9.30508111e-02  1.72796186e-02 -1.39103932e-02  9.18440767e-02\n",
      "   3.26424403e-02  4.47236603e-02 -1.18417646e-01 -9.33457523e-02\n",
      "   4.45592630e-02 -8.82141650e-02  0.00000000e+00 -4.92850354e-02\n",
      "   6.66702692e-02 -9.19800231e-02 -1.19674156e-01  1.25390657e-01\n",
      "  -2.29955980e-05 -9.99041864e-03 -1.64677235e-01  0.00000000e+00\n",
      "  -4.44993143e-02  0.00000000e+00  1.44752957e-02 -1.01683924e-02\n",
      "  -2.63874014e-04  3.98103405e-02  5.54130278e-02  7.18813321e-02\n",
      "   4.35426253e-02  6.40345100e-02  3.14019605e-01 -5.43894551e-01\n",
      "   1.43032746e-01  7.58382024e-04 -2.98161640e-01  0.00000000e+00\n",
      "   0.00000000e+00 -3.64859101e+00  0.00000000e+00 -3.99363374e-01\n",
      "   0.00000000e+00 -1.67157080e+00 -1.38307708e+00  0.00000000e+00\n",
      "   0.00000000e+00  0.00000000e+00  0.00000000e+00  0.00000000e+00\n",
      "   0.00000000e+00  0.00000000e+00  0.00000000e+00  0.00000000e+00\n",
      "   0.00000000e+00  0.00000000e+00  0.00000000e+00  0.00000000e+00\n",
      "   0.00000000e+00  0.00000000e+00  0.00000000e+00  0.00000000e+00\n",
      "   0.00000000e+00  0.00000000e+00  0.00000000e+00  0.00000000e+00\n",
      "  -2.28438462e+00 -2.73988639e-01  0.00000000e+00  0.00000000e+00\n",
      "   0.00000000e+00  0.00000000e+00  0.00000000e+00 -5.37787277e-01\n",
      "   0.00000000e+00  0.00000000e+00  0.00000000e+00  0.00000000e+00\n",
      "   0.00000000e+00  0.00000000e+00  0.00000000e+00  0.00000000e+00\n",
      "   0.00000000e+00  0.00000000e+00  0.00000000e+00  0.00000000e+00\n",
      "   0.00000000e+00  0.00000000e+00  0.00000000e+00  0.00000000e+00\n",
      "   0.00000000e+00  0.00000000e+00  0.00000000e+00  0.00000000e+00\n",
      "   0.00000000e+00  0.00000000e+00  0.00000000e+00  0.00000000e+00\n",
      "   0.00000000e+00  0.00000000e+00  0.00000000e+00  0.00000000e+00\n",
      "   0.00000000e+00  0.00000000e+00  0.00000000e+00  0.00000000e+00\n",
      "   0.00000000e+00  0.00000000e+00  0.00000000e+00  0.00000000e+00\n",
      "   0.00000000e+00  0.00000000e+00  0.00000000e+00  0.00000000e+00\n",
      "   0.00000000e+00  0.00000000e+00  0.00000000e+00  0.00000000e+00\n",
      "   0.00000000e+00  0.00000000e+00  0.00000000e+00  0.00000000e+00\n",
      "   0.00000000e+00  0.00000000e+00  0.00000000e+00  0.00000000e+00\n",
      "   0.00000000e+00  0.00000000e+00  0.00000000e+00  0.00000000e+00\n",
      "   0.00000000e+00  0.00000000e+00  0.00000000e+00  0.00000000e+00\n",
      "   0.00000000e+00  0.00000000e+00  0.00000000e+00  0.00000000e+00\n",
      "   0.00000000e+00  0.00000000e+00  0.00000000e+00  0.00000000e+00\n",
      "   0.00000000e+00  0.00000000e+00  0.00000000e+00  0.00000000e+00\n",
      "   0.00000000e+00  0.00000000e+00  0.00000000e+00  0.00000000e+00\n",
      "   0.00000000e+00  0.00000000e+00  0.00000000e+00  0.00000000e+00\n",
      "   0.00000000e+00  0.00000000e+00  0.00000000e+00  0.00000000e+00\n",
      "   0.00000000e+00  0.00000000e+00  0.00000000e+00  0.00000000e+00\n",
      "   0.00000000e+00  0.00000000e+00  0.00000000e+00  0.00000000e+00\n",
      "   0.00000000e+00  0.00000000e+00  0.00000000e+00  0.00000000e+00\n",
      "   0.00000000e+00  0.00000000e+00  0.00000000e+00  0.00000000e+00\n",
      "   0.00000000e+00  0.00000000e+00  0.00000000e+00  0.00000000e+00]\n",
      " [ 8.16406595e-03  9.83291150e-02  7.39673131e-02 -1.97010496e-01\n",
      "  -2.40845466e-01  1.07963989e-02  6.32220686e-02  7.00673199e-02\n",
      "   1.95489518e-01  7.92905695e-02  3.13631247e-02  2.54483502e-03\n",
      "  -1.86090072e-01 -4.78757119e-02  0.00000000e+00  1.15363578e-01\n",
      "  -1.58704281e-01 -9.26861562e-03 -3.34561431e-02  3.78110557e-02\n",
      "  -1.53413154e-01  4.10904202e-02  1.72122409e-01 -1.07813296e-01\n",
      "  -1.19743811e-02 -4.57255010e-02  0.00000000e+00  1.37216108e-03\n",
      "   0.00000000e+00 -4.05625620e-02  3.30064600e-04 -8.73346560e-02\n",
      "  -3.59809018e-02  0.00000000e+00  0.00000000e+00  1.06815684e-01\n",
      "  -7.21449518e-02 -1.77083846e-02  3.42030632e-02  0.00000000e+00\n",
      "   0.00000000e+00  0.00000000e+00  0.00000000e+00  0.00000000e+00\n",
      "   0.00000000e+00  1.86289116e+00  1.83387072e+00  0.00000000e+00\n",
      "   0.00000000e+00  0.00000000e+00  0.00000000e+00  0.00000000e+00\n",
      "   0.00000000e+00  0.00000000e+00  0.00000000e+00  0.00000000e+00\n",
      "   0.00000000e+00  0.00000000e+00  0.00000000e+00  0.00000000e+00\n",
      "   0.00000000e+00 -1.64174488e-01  0.00000000e+00  0.00000000e+00\n",
      "   0.00000000e+00  0.00000000e+00 -4.71491775e-01  0.00000000e+00\n",
      "  -1.73447759e-01  0.00000000e+00  0.00000000e+00  0.00000000e+00\n",
      "   0.00000000e+00  0.00000000e+00 -1.58973240e-01  0.00000000e+00\n",
      "   0.00000000e+00 -2.03775828e-03  0.00000000e+00  0.00000000e+00\n",
      "  -2.91075874e-01 -1.82248382e-01  0.00000000e+00  0.00000000e+00\n",
      "  -5.08014605e-02 -1.46251479e-03  0.00000000e+00  0.00000000e+00\n",
      "   0.00000000e+00  0.00000000e+00  0.00000000e+00  0.00000000e+00\n",
      "  -1.56338522e-01  0.00000000e+00  0.00000000e+00  0.00000000e+00\n",
      "   0.00000000e+00  0.00000000e+00  0.00000000e+00  0.00000000e+00\n",
      "   0.00000000e+00  0.00000000e+00  0.00000000e+00  0.00000000e+00\n",
      "   0.00000000e+00  0.00000000e+00  0.00000000e+00  0.00000000e+00\n",
      "   0.00000000e+00  0.00000000e+00  0.00000000e+00  0.00000000e+00\n",
      "   0.00000000e+00  0.00000000e+00  0.00000000e+00  0.00000000e+00\n",
      "   0.00000000e+00  0.00000000e+00  0.00000000e+00  0.00000000e+00\n",
      "   0.00000000e+00  0.00000000e+00  0.00000000e+00  0.00000000e+00\n",
      "   0.00000000e+00  0.00000000e+00  0.00000000e+00  0.00000000e+00\n",
      "   0.00000000e+00  0.00000000e+00  0.00000000e+00  0.00000000e+00\n",
      "   0.00000000e+00  0.00000000e+00  0.00000000e+00  0.00000000e+00\n",
      "   0.00000000e+00  0.00000000e+00  0.00000000e+00  0.00000000e+00\n",
      "   0.00000000e+00  0.00000000e+00  0.00000000e+00  0.00000000e+00\n",
      "   0.00000000e+00  0.00000000e+00  0.00000000e+00  0.00000000e+00\n",
      "   0.00000000e+00  0.00000000e+00  0.00000000e+00  0.00000000e+00\n",
      "   0.00000000e+00  0.00000000e+00  0.00000000e+00  0.00000000e+00\n",
      "   0.00000000e+00  0.00000000e+00  0.00000000e+00  0.00000000e+00\n",
      "   0.00000000e+00  0.00000000e+00  0.00000000e+00  0.00000000e+00\n",
      "   0.00000000e+00  0.00000000e+00  0.00000000e+00  0.00000000e+00\n",
      "   0.00000000e+00  0.00000000e+00  0.00000000e+00  0.00000000e+00\n",
      "   0.00000000e+00  0.00000000e+00  0.00000000e+00  0.00000000e+00\n",
      "   0.00000000e+00  0.00000000e+00  0.00000000e+00  0.00000000e+00]\n",
      " [-1.95484643e-03 -1.06627631e-01  3.68461546e-02  8.92466705e-02\n",
      "   1.84547035e-01 -6.14656947e-02 -1.13526189e-01 -1.25984992e-01\n",
      "   6.12227029e-02 -2.55861111e-02 -1.75432225e-01 -8.89023773e-02\n",
      "   1.69629774e-01  1.91072344e-01  6.78347380e-02 -1.54903501e-01\n",
      "   1.12510252e-01  9.33415821e-03  2.21108968e-01 -2.13242067e-01\n",
      "   2.46072938e-01 -2.66806927e-02 -1.22560927e-01  5.63824884e-02\n",
      "   6.45591047e-02  0.00000000e+00 -1.17842945e-01 -9.12911312e-02\n",
      "   2.20049397e-01 -1.13867214e-01  1.96161934e-02  0.00000000e+00\n",
      "  -1.21470761e-01  0.00000000e+00 -2.25320044e-01  2.54741826e-01\n",
      "  -1.74513695e-01  0.00000000e+00  4.77587002e-02  1.44460148e-01\n",
      "   0.00000000e+00  0.00000000e+00  0.00000000e+00  0.00000000e+00\n",
      "   0.00000000e+00  0.00000000e+00  0.00000000e+00  0.00000000e+00\n",
      "   0.00000000e+00  0.00000000e+00  0.00000000e+00  0.00000000e+00\n",
      "   0.00000000e+00  0.00000000e+00  0.00000000e+00  0.00000000e+00\n",
      "   0.00000000e+00  0.00000000e+00  8.42897353e-01  5.58232631e-01\n",
      "   7.29229588e-01  0.00000000e+00  0.00000000e+00  1.31365055e-01\n",
      "  -3.50748091e-01 -1.32848556e-01  0.00000000e+00 -4.48872167e-02\n",
      "   0.00000000e+00 -6.71986970e-02  0.00000000e+00 -6.20765111e-02\n",
      "  -7.29518011e-03  0.00000000e+00  3.78137122e-02  0.00000000e+00\n",
      "   0.00000000e+00  6.94260749e-02  0.00000000e+00  2.49476609e-01\n",
      "   1.23040614e-01  0.00000000e+00  0.00000000e+00  2.42138772e-01\n",
      "   3.36560482e-02 -3.30064575e-02  0.00000000e+00  0.00000000e+00\n",
      "   0.00000000e+00  0.00000000e+00  0.00000000e+00  0.00000000e+00\n",
      "  -8.18965234e-02  0.00000000e+00  0.00000000e+00 -8.28105751e-02\n",
      "  -1.14944471e-01  0.00000000e+00  0.00000000e+00  3.22163657e-03\n",
      "   0.00000000e+00  3.19445493e-01  1.64027044e-01  1.67355639e-01\n",
      "   0.00000000e+00  0.00000000e+00  0.00000000e+00  0.00000000e+00\n",
      "   0.00000000e+00 -9.93333778e-02  0.00000000e+00  0.00000000e+00\n",
      "   0.00000000e+00  0.00000000e+00 -1.30483396e+00  0.00000000e+00\n",
      "   0.00000000e+00  0.00000000e+00  0.00000000e+00  0.00000000e+00\n",
      "   0.00000000e+00  0.00000000e+00  0.00000000e+00  0.00000000e+00\n",
      "   0.00000000e+00  0.00000000e+00  0.00000000e+00  0.00000000e+00\n",
      "   0.00000000e+00  0.00000000e+00  0.00000000e+00  0.00000000e+00\n",
      "   0.00000000e+00  0.00000000e+00  0.00000000e+00  0.00000000e+00\n",
      "   0.00000000e+00  0.00000000e+00  0.00000000e+00  0.00000000e+00\n",
      "   0.00000000e+00  0.00000000e+00  0.00000000e+00  0.00000000e+00\n",
      "   0.00000000e+00  0.00000000e+00  0.00000000e+00  0.00000000e+00\n",
      "   0.00000000e+00  0.00000000e+00  0.00000000e+00  0.00000000e+00\n",
      "   0.00000000e+00  0.00000000e+00  0.00000000e+00  0.00000000e+00\n",
      "   0.00000000e+00  0.00000000e+00  0.00000000e+00  0.00000000e+00\n",
      "   0.00000000e+00  0.00000000e+00  0.00000000e+00  0.00000000e+00\n",
      "   0.00000000e+00  0.00000000e+00  0.00000000e+00  0.00000000e+00\n",
      "   0.00000000e+00  0.00000000e+00  0.00000000e+00  0.00000000e+00\n",
      "   0.00000000e+00  0.00000000e+00  0.00000000e+00  0.00000000e+00\n",
      "   0.00000000e+00  0.00000000e+00  0.00000000e+00  0.00000000e+00]\n",
      " [ 2.21701606e-03 -2.62728424e-02 -1.49680146e-01  7.25007763e-02\n",
      "   3.37222910e-02  2.39735867e-02  1.02947307e-01 -9.26017680e-03\n",
      "  -2.12015824e-01 -5.15699802e-02  2.11262168e-01  1.36243503e-01\n",
      "  -1.44530623e-01 -1.76103802e-01 -3.29301782e-02  1.23877072e-01\n",
      "   2.17367927e-03 -1.19435826e-02 -7.66060905e-02  0.00000000e+00\n",
      "  -1.39494710e-02 -8.09623994e-02  2.08402817e-01  6.87803388e-03\n",
      "  -5.10367460e-02  3.86517556e-02  1.66254714e-01  3.30395017e-02\n",
      "  -2.29943691e-01  2.13115107e-01 -1.90302264e-01  0.00000000e+00\n",
      "   1.39080834e-01 -2.30922861e-02 -6.55824791e-02  0.00000000e+00\n",
      "   6.86673614e-02  7.99621514e-02  1.35915359e-01  0.00000000e+00\n",
      "   0.00000000e+00  0.00000000e+00  0.00000000e+00  0.00000000e+00\n",
      "   0.00000000e+00  0.00000000e+00  0.00000000e+00  0.00000000e+00\n",
      "   0.00000000e+00  0.00000000e+00  0.00000000e+00  0.00000000e+00\n",
      "  -8.49310509e-02  0.00000000e+00  0.00000000e+00  0.00000000e+00\n",
      "   0.00000000e+00  0.00000000e+00  0.00000000e+00  0.00000000e+00\n",
      "   0.00000000e+00  0.00000000e+00  0.00000000e+00 -9.40521271e-02\n",
      "   3.23497035e-01  1.85468662e-01  0.00000000e+00  0.00000000e+00\n",
      "   1.13047632e-01  0.00000000e+00  0.00000000e+00  0.00000000e+00\n",
      "   0.00000000e+00 -1.23742499e-01  0.00000000e+00 -2.24930786e-02\n",
      "   0.00000000e+00 -3.37725131e-01  0.00000000e+00 -3.68756464e-01\n",
      "   0.00000000e+00  0.00000000e+00 -3.78674161e-01 -8.68919002e-02\n",
      "  -1.74413169e-01  1.08867146e-01  0.00000000e+00  0.00000000e+00\n",
      "   0.00000000e+00  0.00000000e+00  0.00000000e+00  0.00000000e+00\n",
      "   4.42087957e-01  0.00000000e+00  0.00000000e+00  0.00000000e+00\n",
      "   1.02992993e-01  0.00000000e+00  0.00000000e+00  0.00000000e+00\n",
      "  -3.86222248e-01 -5.28058542e-02  0.00000000e+00 -3.28330229e-01\n",
      "   0.00000000e+00  0.00000000e+00  0.00000000e+00  0.00000000e+00\n",
      "   0.00000000e+00  2.23127338e-01  0.00000000e+00  0.00000000e+00\n",
      "   0.00000000e+00  0.00000000e+00  0.00000000e+00  0.00000000e+00\n",
      "   0.00000000e+00  0.00000000e+00  0.00000000e+00  0.00000000e+00\n",
      "   0.00000000e+00  0.00000000e+00  0.00000000e+00  0.00000000e+00\n",
      "   0.00000000e+00  0.00000000e+00  0.00000000e+00  0.00000000e+00\n",
      "   0.00000000e+00  0.00000000e+00  0.00000000e+00  0.00000000e+00\n",
      "   0.00000000e+00  0.00000000e+00  0.00000000e+00  0.00000000e+00\n",
      "   0.00000000e+00  0.00000000e+00  0.00000000e+00  0.00000000e+00\n",
      "   0.00000000e+00  0.00000000e+00  0.00000000e+00  0.00000000e+00\n",
      "   0.00000000e+00  0.00000000e+00  0.00000000e+00  0.00000000e+00\n",
      "   0.00000000e+00  0.00000000e+00  0.00000000e+00  0.00000000e+00\n",
      "   0.00000000e+00  0.00000000e+00  0.00000000e+00  0.00000000e+00\n",
      "   0.00000000e+00  0.00000000e+00  0.00000000e+00  0.00000000e+00\n",
      "   0.00000000e+00  0.00000000e+00  0.00000000e+00  0.00000000e+00\n",
      "   0.00000000e+00  0.00000000e+00  0.00000000e+00  0.00000000e+00\n",
      "   0.00000000e+00  0.00000000e+00  0.00000000e+00  0.00000000e+00\n",
      "   0.00000000e+00  0.00000000e+00  0.00000000e+00  0.00000000e+00\n"
     ]
    },
    {
     "name": "stdout",
     "output_type": "stream",
     "text": [
      "   0.00000000e+00  0.00000000e+00  0.00000000e+00  0.00000000e+00]]\n"
     ]
    },
    {
     "name": "stderr",
     "output_type": "stream",
     "text": [
      "C:\\Users\\palak\\Anaconda3\\lib\\site-packages\\ipykernel_launcher.py:3: UserWarning: In Matplotlib 3.3 individual lines on a stem plot will be added as a LineCollection instead of individual lines. This significantly improves the performance of a stem plot. To remove this warning and switch to the new behaviour, set the \"use_line_collection\" keyword argument to True.\n",
      "  This is separate from the ipykernel package so we can avoid doing imports until\n"
     ]
    },
    {
     "data": {
      "image/png": "[encoded data removed]",
      "text/plain": [
       "<Figure size 432x288 with 1 Axes>"
      ]
     },
     "metadata": {
      "needs_background": "light"
     },
     "output_type": "display_data"
    }
   ],
   "source": [
    "weights=model.coef_.flatten()\n",
    "print(\"Weights : \",model.coef_)\n",
    "plt.stem(abs(weights))\n",
    "plt.title(\"Stem Plot\")\n",
    "plt.show()"
   ]
  },
  {
   "cell_type": "markdown",
   "metadata": {},
   "source": [
    "<h5> Testing Accuracy Results </h5>"
   ]
  },
  {
   "cell_type": "code",
   "execution_count": 30,
   "metadata": {},
   "outputs": [
    {
     "name": "stdout",
     "output_type": "stream",
     "text": [
      "                    Model  Testing Accuracy\n",
      "0  Multi-Layer Perceptron             77.27\n",
      "1  Support Vector Machine             64.93\n",
      "2     Logistic Regression             65.36\n",
      "3    Gaussian Naive Bayes             50.65\n"
     ]
    }
   ],
   "source": [
    "results = {'Model': [\"Multi-Layer Perceptron\",\"Support Vector Machine\",\"Logistic Regression\",\"Gaussian Naive Bayes\"],\n",
    "        'Testing Accuracy': [77.27,64.93,65.36,50.65]\n",
    "          }\n",
    "df = pd.DataFrame(results, columns = ['Model', 'Testing Accuracy'])\n",
    "print(df)"
   ]
  },
  {
   "cell_type": "markdown",
   "metadata": {},
   "source": [
    "<h5> Training Accuracy Results </h5>"
   ]
  },
  {
   "cell_type": "code",
   "execution_count": 31,
   "metadata": {},
   "outputs": [
    {
     "name": "stdout",
     "output_type": "stream",
     "text": [
      "                    Model  Training Accuracy\n",
      "0  Multi-Layer Perceptron              98.21\n",
      "1    Gaussian Naive Bayes              47.67\n",
      "2  Support Vector Machine              88.11\n",
      "3     Logistic Regression              76.35\n"
     ]
    }
   ],
   "source": [
    "results = {'Model': [\"Multi-Layer Perceptron\",\"Gaussian Naive Bayes\",\"Support Vector Machine\",\"Logistic Regression\"],\n",
    "        'Training Accuracy': [98.21,47.67,88.11,76.35]\n",
    "          }\n",
    "df = pd.DataFrame(results, columns = ['Model', 'Training Accuracy'])\n",
    "print(df)"
   ]
  },
  {
   "cell_type": "markdown",
   "metadata": {},
   "source": [
    "<h5> Learnings and Observations </h5>"
   ]
  },
  {
   "cell_type": "code",
   "execution_count": 38,
   "metadata": {},
   "outputs": [
    {
     "name": "stdout",
     "output_type": "stream",
     "text": [
      "1. Multi Layer Perceptron has the highest accuracy with Naive bayes having the least\n",
      "2. MLP learns the relationship between the noisy and clean feature vectors for input noisy feature vectors.\n",
      "3. Naive bayes ignores the acoustics and speech percepts\n",
      "4. SVM is unsuitable for larger datasets\n",
      "5. logistic regression outputs the conditional probability of a class given an observation and has a natural generalization to the multi-class case. This is important in Speech Emotion Recognition\n"
     ]
    }
   ],
   "source": [
    "print(\"1. Multi Layer Perceptron has the highest accuracy with Naive bayes having the least\")\n",
    "print(\"2. MLP learns the relationship between the noisy and clean feature vectors for input noisy feature vectors.\")\n",
    "print(\"3. Naive bayes ignores the acoustics and speech percepts\")\n",
    "print(\"4. SVM is unsuitable for larger datasets\")\n",
    "print(\"5. logistic regression outputs the conditional probability of a class given an observation and has a natural generalization to the multi-class case. This is important in Speech Emotion Recognition\")"
   ]
  },
  {
   "cell_type": "code",
   "execution_count": null,
   "metadata": {},
   "outputs": [],
   "source": []
  }
 ],
 "metadata": {
  "kernelspec": {
   "display_name": "Python 3",
   "language": "python",
   "name": "python3"
  },
  "language_info": {
   "codemirror_mode": {
    "name": "ipython",
    "version": 3
   },
   "file_extension": ".py",
   "mimetype": "text/x-python",
   "name": "python",
   "nbconvert_exporter": "python",
   "pygments_lexer": "ipython3",
   "version": "3.7.4"
  }
 },
 "nbformat": 4,
 "nbformat_minor": 2
}
